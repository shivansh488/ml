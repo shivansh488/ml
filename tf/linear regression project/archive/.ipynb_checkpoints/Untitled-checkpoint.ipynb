{
 "cells": [
  {
   "cell_type": "code",
   "execution_count": 1,
   "id": "64ee5a8a-f355-4286-9fa4-03e8525f2e3a",
   "metadata": {},
   "outputs": [],
   "source": [
    "import pandas as pd\n",
    "import matplotlib.pyplot as plt\n",
    "import seaborn as sns"
   ]
  },
  {
   "cell_type": "code",
   "execution_count": null,
   "id": "5b75c944-6fe8-4824-933b-3d00b579d8e4",
   "metadata": {},
   "outputs": [],
   "source": [
    "df=pd.read_csv(\"ecommnerce.csv\")"
   ]
  },
  {
   "cell_type": "code",
   "execution_count": null,
   "id": "5232bbee-0a4c-4b51-b668-6c53ee403d04",
   "metadata": {},
   "outputs": [],
   "source": []
  }
 ],
 "metadata": {
  "kernelspec": {
   "display_name": "Python 3 (ipykernel)",
   "language": "python",
   "name": "python3"
  },
  "language_info": {
   "codemirror_mode": {
    "name": "ipython",
    "version": 3
   },
   "file_extension": ".py",
   "mimetype": "text/x-python",
   "name": "python",
   "nbconvert_exporter": "python",
   "pygments_lexer": "ipython3",
   "version": "3.12.7"
  }
 },
 "nbformat": 4,
 "nbformat_minor": 5
}
