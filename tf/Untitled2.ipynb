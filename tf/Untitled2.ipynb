{
 "cells": [
  {
   "cell_type": "code",
   "execution_count": 2,
   "id": "0d7f44c1-ba15-4b9c-ab59-6848db52dda6",
   "metadata": {},
   "outputs": [],
   "source": [
    "\n",
    "import numpy as np\n",
    "y_preddicted=np.array([1,1,0,0,1])\n",
    "y_true=np.array([0.30,0.7,1,0,0.5])"
   ]
  },
  {
   "cell_type": "code",
   "execution_count": 3,
   "id": "f9e99cf9-dd95-45b9-82b4-97b00b6751c1",
   "metadata": {},
   "outputs": [],
   "source": [
    "def mae(y_true,y_preddicted):\n",
    "    total_error=0\n",
    "    for yt,yp in zip(y_true,y_preddicted):\n",
    "        total_error+=abs(yt-yp)\n",
    "    print(f\"total error{total_error}\")\n",
    "    mae=total_error/len(y_true)\n",
    "    print(f\"mean abs error {mae}\")\n",
    "    return mae"
   ]
  },
  {
   "cell_type": "code",
   "execution_count": 4,
   "id": "c15e4390-479d-4024-80e2-fd3c3db1a7ad",
   "metadata": {},
   "outputs": [
    {
     "name": "stdout",
     "output_type": "stream",
     "text": [
      "total error2.5\n",
      "mean abs error 0.5\n"
     ]
    },
    {
     "data": {
      "text/plain": [
       "0.5"
      ]
     },
     "execution_count": 4,
     "metadata": {},
     "output_type": "execute_result"
    }
   ],
   "source": [
    "mae(y_true,y_preddicted)\n"
   ]
  },
  {
   "cell_type": "code",
   "execution_count": 6,
   "id": "4b35c23e-1031-48df-9de7-87dab8ba38c6",
   "metadata": {},
   "outputs": [
    {
     "data": {
      "text/plain": [
       "0.5"
      ]
     },
     "execution_count": 6,
     "metadata": {},
     "output_type": "execute_result"
    }
   ],
   "source": [
    "np.mean(np.abs(y_true-y_preddicted))"
   ]
  },
  {
   "cell_type": "code",
   "execution_count": 7,
   "id": "5fd38987-b5ca-4b92-9579-063071e71353",
   "metadata": {},
   "outputs": [],
   "source": [
    "#log functon"
   ]
  },
  {
   "cell_type": "code",
   "execution_count": 10,
   "id": "3f2f74f4-c6e0-4425-a0b6-5df757efeb3c",
   "metadata": {},
   "outputs": [
    {
     "data": {
      "text/plain": [
       "array([-39.14394658])"
      ]
     },
     "execution_count": 10,
     "metadata": {},
     "output_type": "execute_result"
    }
   ],
   "source": [
    "np.log([0.00000000000000001])"
   ]
  },
  {
   "cell_type": "code",
   "execution_count": null,
   "id": "0d66bb09-cad4-42b7-abc3-a545d0e8bddb",
   "metadata": {},
   "outputs": [],
   "source": []
  }
 ],
 "metadata": {
  "kernelspec": {
   "display_name": "Python 3 (ipykernel)",
   "language": "python",
   "name": "python3"
  },
  "language_info": {
   "codemirror_mode": {
    "name": "ipython",
    "version": 3
   },
   "file_extension": ".py",
   "mimetype": "text/x-python",
   "name": "python",
   "nbconvert_exporter": "python",
   "pygments_lexer": "ipython3",
   "version": "3.9.13"
  }
 },
 "nbformat": 4,
 "nbformat_minor": 5
}
