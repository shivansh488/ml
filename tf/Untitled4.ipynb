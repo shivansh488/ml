{
 "cells": [
  {
   "cell_type": "code",
   "execution_count": 4,
   "id": "d3b02e9f-ac9d-4265-ace7-2d5e8b662e63",
   "metadata": {},
   "outputs": [
    {
     "name": "stdout",
     "output_type": "stream",
     "text": [
      " * Serving Flask app '__main__'\n",
      " * Debug mode: on\n"
     ]
    },
    {
     "name": "stderr",
     "output_type": "stream",
     "text": [
      "WARNING: This is a development server. Do not use it in a production deployment. Use a production WSGI server instead.\n",
      " * Running on http://127.0.0.1:5001\n",
      "Press CTRL+C to quit\n",
      " * Restarting with stat\n"
     ]
    },
    {
     "ename": "SystemExit",
     "evalue": "1",
     "output_type": "error",
     "traceback": [
      "An exception has occurred, use %tb to see the full traceback.\n",
      "\u001b[1;31mSystemExit\u001b[0m\u001b[1;31m:\u001b[0m 1\n"
     ]
    }
   ],
   "source": [
    "import qrcode\n",
    "import sqlite3\n",
    "from flask import Flask, send_file, request, jsonify\n",
    "import io\n",
    "import uuid\n",
    "\n",
    "# Initialize the Flask app\n",
    "app = Flask(__name__)\n",
    "\n",
    "# In-memory database to store users who have scanned the code\n",
    "conn = sqlite3.connect(':memory:', check_same_thread=False)\n",
    "cursor = conn.cursor()\n",
    "\n",
    "# Create a table to track users\n",
    "cursor.execute('''CREATE TABLE users (user_id TEXT PRIMARY KEY, scanned INTEGER)''')\n",
    "conn.commit()\n",
    "\n",
    "# Generate a QR code\n",
    "def generate_qr(data):\n",
    "    qr = qrcode.QRCode(\n",
    "        version=1,\n",
    "        error_correction=qrcode.constants.ERROR_CORRECT_L,\n",
    "        box_size=10,\n",
    "        border=4,\n",
    "    )\n",
    "    qr.add_data(data)\n",
    "    qr.make(fit=True)\n",
    "    \n",
    "    img = qr.make_image(fill='black', back_color='white')\n",
    "    return img\n",
    "\n",
    "# Route to generate and serve a one-time QR code\n",
    "@app.route('/generate_qr')\n",
    "def get_qr():\n",
    "    # Generate a unique ID for the user/session\n",
    "    user_id = str(uuid.uuid4())\n",
    "    \n",
    "    # Store the user in the database (set scanned = 0 initially)\n",
    "    cursor.execute('INSERT INTO users (user_id, scanned) VALUES (?, ?)', (user_id, 0))\n",
    "    conn.commit()\n",
    "    \n",
    "    # Create the QR code with the unique user ID embedded\n",
    "    qr_img = generate_qr(user_id)\n",
    "    \n",
    "    # Convert the image to a byte stream to send as a file response\n",
    "    img_io = io.BytesIO()\n",
    "    qr_img.save(img_io, 'PNG')\n",
    "    img_io.seek(0)\n",
    "    \n",
    "    return send_file(img_io, mimetype='image/png')\n",
    "\n",
    "# Route to handle the QR code scan\n",
    "@app.route('/scan_qr/<user_id>', methods=['POST'])\n",
    "def scan_qr(user_id):\n",
    "    # Check if the user exists and if they have already scanned the QR code\n",
    "    cursor.execute('SELECT scanned FROM users WHERE user_id = ?', (user_id,))\n",
    "    result = cursor.fetchone()\n",
    "    \n",
    "    if result is None:\n",
    "        return jsonify({'error': 'Invalid QR code'}), 404\n",
    "    elif result[0] == 1:\n",
    "        return jsonify({'error': 'QR code has already been used'}), 400\n",
    "    else:\n",
    "        # Mark the QR code as used\n",
    "        cursor.execute('UPDATE users SET scanned = 1 WHERE user_id = ?', (user_id,))\n",
    "        conn.commit()\n",
    "        return jsonify({'success': 'QR code scanned successfully'}), 200\n",
    "\n",
    "# Run the Flask app\n",
    "if __name__ == '__main__':\n",
    "    app.run(debug=True,port=5001)\n"
   ]
  },
  {
   "cell_type": "code",
   "execution_count": null,
   "id": "5cc8ce34-5c86-4f26-bc26-9cafffbb8bd5",
   "metadata": {},
   "outputs": [],
   "source": []
  }
 ],
 "metadata": {
  "kernelspec": {
   "display_name": "Python 3 (ipykernel)",
   "language": "python",
   "name": "python3"
  },
  "language_info": {
   "codemirror_mode": {
    "name": "ipython",
    "version": 3
   },
   "file_extension": ".py",
   "mimetype": "text/x-python",
   "name": "python",
   "nbconvert_exporter": "python",
   "pygments_lexer": "ipython3",
   "version": "3.9.13"
  }
 },
 "nbformat": 4,
 "nbformat_minor": 5
}
